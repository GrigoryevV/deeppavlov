{
 "cells": [
  {
   "cell_type": "code",
   "execution_count": null,
   "id": "6bdd2159",
   "metadata": {},
   "outputs": [],
   "source": [
    "!pip install -q deeppavlov"
   ]
  },
  {
   "cell_type": "code",
   "execution_count": null,
   "id": "7bb76871",
   "metadata": {},
   "outputs": [],
   "source": [
    "from deeppavlov import configs"
   ]
  },
  {
   "cell_type": "code",
   "execution_count": null,
   "id": "018d05f4",
   "metadata": {},
   "outputs": [],
   "source": [
    "from deeppavlov.core.commands.infer import build_model"
   ]
  },
  {
   "cell_type": "code",
   "execution_count": null,
   "id": "94b68847",
   "metadata": {},
   "outputs": [],
   "source": [
    "def odqa_deeppavlov(questions):\n",
    "    odqa = build_model(configs.odqa.en_odqa_infer_wiki, download = True)\n",
    "    results = odqa(questions)\n",
    "    return results"
   ]
  },
  {
   "cell_type": "code",
   "execution_count": null,
   "id": "5f762d3a",
   "metadata": {},
   "outputs": [],
   "source": [
    "questions = [\"Что такое линейная регрессия?\", \"Что такое вероятность?\"]\n",
    "answers = odqa_deeppavlov(questions)\n",
    "print(answers)"
   ]
  }
 ],
 "metadata": {
  "kernelspec": {
   "display_name": "Python 3",
   "language": "python",
   "name": "python3"
  },
  "language_info": {
   "codemirror_mode": {
    "name": "ipython",
    "version": 3
   },
   "file_extension": ".py",
   "mimetype": "text/x-python",
   "name": "python",
   "nbconvert_exporter": "python",
   "pygments_lexer": "ipython3",
   "version": "3.8.8"
  }
 },
 "nbformat": 4,
 "nbformat_minor": 5
}
